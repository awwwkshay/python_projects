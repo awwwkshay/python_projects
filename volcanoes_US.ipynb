{
 "cells": [
  {
   "cell_type": "code",
   "execution_count": 1,
   "id": "70dd31bf",
   "metadata": {},
   "outputs": [],
   "source": [
    "import folium\n",
    "import pandas"
   ]
  },
  {
   "cell_type": "code",
   "execution_count": 2,
   "id": "a444e1bd",
   "metadata": {},
   "outputs": [
    {
     "data": {
      "text/plain": [
       "Index(['VOLCANX020', 'NUMBER', 'NAME', 'LOCATION', 'STATUS', 'ELEV', 'TYPE',\n",
       "       'TIMEFRAME', 'LAT', 'LON'],\n",
       "      dtype='object')"
      ]
     },
     "execution_count": 2,
     "metadata": {},
     "output_type": "execute_result"
    }
   ],
   "source": [
    "data = pandas.read_csv(\"Volcanoes.txt\")\n",
    "data.columns"
   ]
  },
  {
   "cell_type": "code",
   "execution_count": 3,
   "id": "d26ae691",
   "metadata": {},
   "outputs": [],
   "source": [
    "lat = list(data[\"LAT\"])\n",
    "lon = list(data[\"LON\"])\n",
    "elev = list(data[\"ELEV\"])\n",
    "name = list(data[\"NAME\"])"
   ]
  },
  {
   "cell_type": "code",
   "execution_count": 4,
   "id": "0860c79c",
   "metadata": {},
   "outputs": [],
   "source": [
    "html = \"\"\"\n",
    "Volcano name:<br>\n",
    "<a href=\"https://www.google.com/search?q=%%22%s%%22\" target=\"_blank\">%s</a><br>\n",
    "Height: %s m\n",
    "\"\"\""
   ]
  },
  {
   "cell_type": "code",
   "execution_count": 5,
   "id": "8f3cb7d9",
   "metadata": {},
   "outputs": [],
   "source": [
    "map = folium.Map(location=[38.58, -99.09], zoom_start=5, tiles=\"Stamen Terrain\")\n",
    "fg = folium.FeatureGroup(name = \"My Map\")"
   ]
  },
  {
   "cell_type": "code",
   "execution_count": 6,
   "id": "63b4f865",
   "metadata": {},
   "outputs": [],
   "source": [
    "for lt, ln, el, name in zip(lat, lon, elev, name):\n",
    "    iframe = folium.IFrame(html=html % (name, name, el), width=200, height=100)\n",
    "    fg.add_child(folium.Marker(location=[lt, ln], popup=folium.Popup(iframe), icon = folium.Icon(color = \"green\")))"
   ]
  },
  {
   "cell_type": "code",
   "execution_count": 7,
   "id": "a193fead",
   "metadata": {},
   "outputs": [],
   "source": [
    "map.add_child(fg)\n",
    "map.save(\"Map_Volcanoes_US.html\")"
   ]
  },
  {
   "cell_type": "code",
   "execution_count": null,
   "id": "ffad3a12",
   "metadata": {},
   "outputs": [],
   "source": []
  },
  {
   "cell_type": "code",
   "execution_count": null,
   "id": "72f6d035",
   "metadata": {},
   "outputs": [],
   "source": []
  },
  {
   "cell_type": "code",
   "execution_count": null,
   "id": "082490b7",
   "metadata": {},
   "outputs": [],
   "source": []
  }
 ],
 "metadata": {
  "kernelspec": {
   "display_name": "Python 3 (ipykernel)",
   "language": "python",
   "name": "python3"
  },
  "language_info": {
   "codemirror_mode": {
    "name": "ipython",
    "version": 3
   },
   "file_extension": ".py",
   "mimetype": "text/x-python",
   "name": "python",
   "nbconvert_exporter": "python",
   "pygments_lexer": "ipython3",
   "version": "3.7.8"
  }
 },
 "nbformat": 4,
 "nbformat_minor": 5
}
